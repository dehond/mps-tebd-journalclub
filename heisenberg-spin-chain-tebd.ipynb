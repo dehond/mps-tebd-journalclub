{
 "cells": [
  {
   "cell_type": "code",
   "execution_count": 1,
   "metadata": {},
   "outputs": [],
   "source": [
    "import numpy as np\n",
    "import matplotlib.pyplot as plt\n",
    "from scipy.linalg import expm"
   ]
  },
  {
   "cell_type": "markdown",
   "metadata": {},
   "source": [
    "## Time evolution of spin chain"
   ]
  },
  {
   "cell_type": "markdown",
   "metadata": {},
   "source": [
    "In defining our matrix product states, we'll stick to the following labeling conventions. The first label will correspond to physical indices, followed by the virtual indices."
   ]
  },
  {
   "cell_type": "code",
   "execution_count": 2,
   "metadata": {},
   "outputs": [],
   "source": [
    "def initial_state(N):\n",
    "    \"\"\" Returns the full specification of an MPS with perfect Néel order \"\"\"\n",
    "    d = 2     # Dimension size of physical index\n",
    "    B = []    # On-site component of MPS\n",
    "    s = []    # Diagonal matrix containing singular values\n",
    "\n",
    "    for i in range(N):\n",
    "        Bn = np.zeros( [d, 1, 1], dtype = complex )\n",
    "                # We have d dimensions in the physical index, and one dimension on the virtual indices\n",
    "        \n",
    "        Bn[ (i + 1) % 2, 0, 0 ] = 1\n",
    "                # Configure initial state with perfect Néel order\n",
    "        \n",
    "        B.append( Bn )\n",
    "        s.append( np.ones(1) )\n",
    "                # Extend B and s, the latter by adding a trivial 1\n",
    "    \n",
    "    s.append( np.ones(1) )\n",
    "            # Add an extra S matrix for putting MPS into canonical form\n",
    "    \n",
    "    return B, s"
   ]
  },
  {
   "cell_type": "markdown",
   "metadata": {},
   "source": [
    "Next we need to specify the matrices and operators that work on our bonds. In our TEBD treatment of the Heisenberg model this will simply be an array of two-site operators."
   ]
  },
  {
   "cell_type": "code",
   "execution_count": 109,
   "metadata": {},
   "outputs": [],
   "source": [
    "# Start by defining all the Pauli spin matrices\n",
    "sx = np.array( [[0, 1], [1, 0]] )\n",
    "sy = np.array( [[0, -1j], [1j, 0]] )\n",
    "sz = np.array( [[1, 0], [0, -1]] )\n",
    "\n",
    "def heisenberg_bonds(J, N, delta_t):\n",
    "    \"\"\"\n",
    "    Returns the Hamiltonian and time-evolution block in matrix-product form.\n",
    "    J is the strength of the superexchange,\n",
    "    delta_t is the size of the time step\n",
    "    \"\"\"\n",
    "    d = 2         # Dimension size of the physical index\n",
    "    H_bond = []   # Block giving Hamiltonian operator of a pair of sites\n",
    "    U_bond = []   # Block giving time evolution operator of pair of sites\n",
    "    \n",
    "    for i in range(N - 1):\n",
    "        H = -J * ( np.kron(sx, sx) + np.kron(sy, sy) + np.kron(sz, sz) )\n",
    "                # For two sites the Hamiltonian is simply a Kronecker product of the single-site operators\n",
    "            \n",
    "        H_bond.append( np.reshape( H, (d, d, d, d) ) )\n",
    "                # Add to array, reshape into tensor form: two (physical) upper indices and two (physical) lower ones\n",
    "        \n",
    "        U_bond.append( np.reshape( expm(-1j * delta_t * H), (d, d, d, d) ) )\n",
    "                # Calculate time evolution operator, and reshape in the same way\n",
    "    \n",
    "    return H_bond, U_bond"
   ]
  },
  {
   "cell_type": "markdown",
   "metadata": {},
   "source": [
    "Havind defined the initial state and the Hamiltonian (plus time evolution operator), we can define a function that will take in our MPS (consisting of `B` and `s`), and propagate it with one time step $\\delta t$. Crucially, for large system sizes we limit the number of singular values that can sit in between two sites. This is sometimes referred to as the 'bond dimension,' and we'll not allow it to exceed `chi`."
   ]
  },
  {
   "cell_type": "markdown",
   "metadata": {},
   "source": [
    "For bookkeeping purposes, the singular value matrix to the right of any on-site tensor is left contracted. This saves us a few lines of code."
   ]
  },
  {
   "cell_type": "code",
   "execution_count": 110,
   "metadata": {},
   "outputs": [],
   "source": [
    "def sweep(B, s, U_bond, chi):\n",
    "    \"\"\"\n",
    "    Given some matrix product state specified by B and s, advance it one step in time, as described by the\n",
    "    Trotterized time evolution operators U_bond. We allow for a maximal bond dimension of chi. We sweep from\n",
    "    left to right. Adapted from Frank Pollmann's sweep algorithm, also see Pollmann (2016).\n",
    "    \"\"\"\n",
    "    N = len(B)\n",
    "    d = B[0].shape[0]\n",
    "    for k in [0, 1]:\n",
    "        # First we loop over all the even bonds, then over the odd ones\n",
    "        \n",
    "        for i_b in range(k, N - 1, 2):\n",
    "            chia = B[i_b].shape[1]\n",
    "            chib = B[i_b + 1].shape[2]\n",
    "                # Get dimensions of virtual bonds extending to the left and right of the system\n",
    "            \n",
    "            \"\"\" Start by contracting the MPS at the right place, and add in time evolution operator \"\"\"\n",
    "            theta = np.tensordot( B[i_b], np.diag(s[i_b]), axes = (1, 1) )\n",
    "            theta = np.transpose( theta, (0, 2, 1) )\n",
    "                    # Contract tensor Bi and principal value matrix si that sits to its left, result:\n",
    "                        # physical, left virtual, right virtual\n",
    "            \n",
    "            theta = np.tensordot( theta, B[i_b + 1], axes = (2, 1) )\n",
    "                    # Contract with tensor Bi+1, result:\n",
    "                        # left physical, left virtual, right physical, right virtual\n",
    "                \n",
    "            theta = np.tensordot( U_bond[i_b], theta, axes = ([2, 3], [0, 2]) )\n",
    "                    # Contract with time evolution operator Ui, result:\n",
    "                        # left physical, right physical, left virtual, right virtual\n",
    "                    \n",
    "            theta = np.transpose( theta, (0, 2, 1, 3) )\n",
    "                    # Swap indices around such that the LHS and RHS are grouped.\n",
    "            \n",
    "            theta = np.reshape( theta, (d * chia, d * chib) )\n",
    "                    # Reshape into matrix such that the rows and columns correspond to the LHS and RHS of the system\n",
    "            \n",
    "            \n",
    "            \"\"\" Do the SVD \"\"\"\n",
    "            X, Y, Zt = np.linalg.svd( theta, full_matrices = 0 )\n",
    "                    # Do the SVD\n",
    "            \n",
    "            \"\"\" Remove basis states until at most chi significant ones remain \"\"\"\n",
    "            chi_act = np.min( [ np.sum(Y > 10**-10), chi ] )\n",
    "            selected = np.argsort(Y)[::-1][:chi_act]\n",
    "                    # Find the indices of the chi_act largest singular values\n",
    "                \n",
    "            Y = Y[selected]\n",
    "            X = X[:, selected]\n",
    "            Zt = Zt[selected, :]\n",
    "                    # Select only the chi_act largest singular values and left- and right-singular vectors\n",
    "            \n",
    "            \"\"\" Unpack SVD a little more so that we get everything in the right shape. \"\"\"\n",
    "            s[i_b + 1] = Y / np.sqrt( sum( Y**2 ) )\n",
    "                    # Save new singular values (normalized)\n",
    "            \n",
    "            X = np.reshape( X, ( d, chia, len(Y) ) )\n",
    "                    # physical, left virtual, right virtual\n",
    "                \n",
    "            X = np.tensordot( X, np.diag( 1/s[i_b] ), axes = (1, 1) ) # phys, virt right, virt left\n",
    "            X = np.tensordot( X, np.diag( s[i_b + 1] ), axes = (1, 0) ) # phys, virt left, virt right\n",
    "                    # Divide out the old singular value matrix, which we contracted before, and contract with the new one:\n",
    "                        # physical, left virtual, right virtual\n",
    "            B[i_b] = X\n",
    "                \n",
    "            Zt = np.reshape( Zt, (len(Y), d, chib) )\n",
    "            Zt = np.transpose( Zt, (1, 0, 2) )\n",
    "                    # The matrix that comes out of the SVD has dimensions chi x (d * chib), we unpack and reorder this.\n",
    "                \n",
    "            B[i_b + 1] = Zt"
   ]
  },
  {
   "cell_type": "code",
   "execution_count": 111,
   "metadata": {},
   "outputs": [],
   "source": [
    "def Sz(B, s, i):\n",
    "    \"\"\"\n",
    "    Calculate the expectation value of Sz on site i\n",
    "    \"\"\"\n",
    "    ss = np.tensordot( np.diag(s[i]), np.diag(s[i]), axes = (0, 0) )\n",
    "    BSz = np.tensordot( sz, B[i], axes = (1, 0) )\n",
    "        # physical, left virtual, right virtual\n",
    "    BSzB = np.tensordot( BSz, np.conj( B[i] ), axes = (0, 0) )\n",
    "        # left virtual top, right virtual top, left virtual bottom, right virtual bottom\n",
    "    ssBSzB = np.tensordot( ss, BSzB, axes = ([0, 1], [0, 2]))\n",
    "        # right virtual top, right virtual bottom\n",
    "    \n",
    "    return np.real(np.trace( ssBSzB ))"
   ]
  },
  {
   "cell_type": "code",
   "execution_count": null,
   "metadata": {},
   "outputs": [],
   "source": [
    "dt = 0.01\n",
    "J = 1.\n",
    "N = 15\n",
    "B, s = initial_state(N)\n",
    "H_bond, U_bond = heisenberg_bonds(J, N, dt)\n",
    "\n",
    "tmax = 10\n",
    "tsteps = round( tmax/dt )\n",
    "timeax = np.arange(0, tmax, dt)\n",
    "\n",
    "sz_t = np.zeros( tsteps )\n",
    "neel_t = np.zeros( tsteps )\n",
    "\n",
    "for i in range(tsteps):\n",
    "    sz_t[i] = Sz(B, s, 0)\n",
    "    neel_t[i] = sum([(-1)**(k+1) * Sz(B, s, k) for k in range(N)])/N\n",
    "    sweep(B, s, U_bond, 30)    "
   ]
  },
  {
   "cell_type": "markdown",
   "metadata": {},
   "source": [
    "Load data from exact diagonalization:"
   ]
  },
  {
   "cell_type": "code",
   "execution_count": null,
   "metadata": {},
   "outputs": [],
   "source": [
    "ed_dat = np.loadtxt(\"ed-results.csv\", delimiter = \",\")"
   ]
  },
  {
   "cell_type": "code",
   "execution_count": null,
   "metadata": {},
   "outputs": [],
   "source": [
    "fig, ax = plt.subplots(1, 2, figsize = (12, 4))\n",
    "ax[0].plot(timeax, sz_t, lw = 2, label = \"TEBD\")\n",
    "ax[0].plot(ed_dat[:, 0], ed_dat[:, 1], ls = \"-.\", label = \"Exact Diag.\")\n",
    "ax[1].plot(timeax, neel_t, lw = 2, label = \"TEBD\")\n",
    "ax[1].plot(ed_dat[:, 0], ed_dat[:, 2], ls = \"-.\", label = \"Exact Diag.\")\n",
    "\n",
    "ax[0].set_ylabel(r\"$S_z^{(1)}$\", fontsize = 18)\n",
    "ax[0].set_xlabel(\"Time\", fontsize = 18)\n",
    "ax[1].set_ylabel(\"Néel order\", fontsize = 18)\n",
    "ax[1].set_xlabel(\"Time\", fontsize = 18)\n",
    "ax[0].set_ylim([-1, 1])\n",
    "ax[1].set_ylim([-1, 1])\n",
    "ax[0].tick_params(labelsize = 14)\n",
    "ax[1].tick_params(labelsize = 14)\n",
    "ax[0].legend(fontsize = 14)\n",
    "plt.tight_layout()"
   ]
  },
  {
   "cell_type": "code",
   "execution_count": null,
   "metadata": {},
   "outputs": [],
   "source": []
  }
 ],
 "metadata": {
  "kernelspec": {
   "display_name": "Python 3",
   "language": "python",
   "name": "python3"
  },
  "language_info": {
   "codemirror_mode": {
    "name": "ipython",
    "version": 3
   },
   "file_extension": ".py",
   "mimetype": "text/x-python",
   "name": "python",
   "nbconvert_exporter": "python",
   "pygments_lexer": "ipython3",
   "version": "3.6.1"
  },
  "widgets": {
   "application/vnd.jupyter.widget-state+json": {
    "state": {},
    "version_major": 2,
    "version_minor": 0
   }
  }
 },
 "nbformat": 4,
 "nbformat_minor": 4
}
