{
 "cells": [
  {
   "cell_type": "code",
   "execution_count": 1,
   "metadata": {},
   "outputs": [],
   "source": [
    "import numpy as np"
   ]
  },
  {
   "cell_type": "markdown",
   "metadata": {},
   "source": [
    "## Schmidt decomposition demo"
   ]
  },
  {
   "cell_type": "markdown",
   "metadata": {},
   "source": [
    "According to the Schmidt decomposition theorem, we should be able to write any state $|\\psi\\rangle$ as a sum over the tensor products between two (or more) vector spaces $|u_i\\rangle, |v_i\\rangle$, weighted by the Schmidt coefficients $\\alpha_i$ according to\n",
    "\n",
    "$$\n",
    "    |\\psi\\rangle = \\sum_{i = 1}^m \\alpha_i |u_i\\rangle \\otimes |v_i\\rangle.\n",
    "$$\n",
    "\n",
    "#### Example: the GHZ state\n",
    "Let's try this for a simple example. Suppose we have a system with $N$ spin-1/2 particles that is in the GHZ state\n",
    "$$\n",
    "    |\\psi\\rangle = |\\downarrow \\downarrow \\cdots \\downarrow \\rangle + |\\uparrow \\uparrow \\cdots \\uparrow \\rangle.\n",
    "$$\n",
    "It lives in a $2^N$ dimensional Hilbert space, which we can construct as\n",
    "\n",
    "$$\n",
    "    \\left\\{ |\\downarrow\\rangle, |\\uparrow\\rangle \\right\\} \\otimes \\cdots \\otimes \\left\\{ |\\downarrow\\rangle, |\\uparrow\\rangle \\right\\} = \\left\\{ |\\downarrow\\rangle, |\\uparrow\\rangle \\right\\}^{\\otimes N}.\n",
    "$$\n",
    "\n",
    "I hope it doesn't need too much convincing that in this basis,\n",
    "\n",
    "$$\n",
    "    |\\psi\\rangle = \\left( \\begin{array}{} 1 \\\\ 0 \\\\ \\vdots \\\\ 0 \\\\ 1 \\end{array} \\right)\n",
    "$$\n",
    "\n",
    "This is how we'd usually write it, but we can only do a Schmidt decomposition on a matrix. The number of rows in this matrix must be equal to the dimension of the left-hand subspace, and the number of columns must be equal to the dimension of the right-hand subspace. Effectively this means we 'bundle' some of the indices together. As long as we're consistent in the way we reshape and enumerate indices this will not lead to problems. (Numpy, by default, [uses C-like ordering](https://numpy.org/doc/stable/reference/generated/numpy.reshape.html), with the last index changing fastest.)"
   ]
  },
  {
   "cell_type": "markdown",
   "metadata": {},
   "source": [
    "Let's work out the example of four spins in the GHZ state. We'd like to cleave this system right in the middle. What does the SVD look like?"
   ]
  },
  {
   "cell_type": "code",
   "execution_count": 2,
   "metadata": {},
   "outputs": [
    {
     "name": "stdout",
     "output_type": "stream",
     "text": [
      "psi_mat = \n",
      " [[1. 0. 0. 0.]\n",
      " [0. 0. 0. 0.]\n",
      " [0. 0. 0. 0.]\n",
      " [0. 0. 0. 1.]]\n"
     ]
    }
   ],
   "source": [
    "N = 4                        # Total number of spins\n",
    "psi = np.zeros(2**N)         # Configure state in vector form\n",
    "psi[0] = 1\n",
    "psi[-1] = 1\n",
    "\n",
    "Nleft = 2                    # Number of sites left of the cleaving point\n",
    "Nright = N - Nleft           # Number of sites right of the cleaving point\n",
    "psi_mat = np.reshape(psi, (2**Nleft, 2**Nright))\n",
    "print(\"psi_mat = \\n\", psi_mat)"
   ]
  },
  {
   "cell_type": "markdown",
   "metadata": {},
   "source": [
    "Our state is now described by a matrix. We can apply the SVD to this to decompose the state in a left- and a right-hand-side."
   ]
  },
  {
   "cell_type": "code",
   "execution_count": 3,
   "metadata": {},
   "outputs": [
    {
     "name": "stdout",
     "output_type": "stream",
     "text": [
      "LHS = \n",
      " [[1. 0. 0. 0.]\n",
      " [0. 0. 1. 0.]\n",
      " [0. 0. 0. 1.]\n",
      " [0. 1. 0. 0.]]\n",
      "RHS = \n",
      " [[1. 0. 0. 0.]\n",
      " [0. 0. 1. 0.]\n",
      " [0. 0. 0. 1.]\n",
      " [0. 1. 0. 0.]] \n",
      "\n",
      "Singular values = \n",
      " [1. 1. 0. 0.]\n"
     ]
    }
   ],
   "source": [
    "X, Y, Zt = np.linalg.svd(psi_mat)\n",
    "print(\"LHS = \\n\", X)\n",
    "print(\"RHS = \\n\", Zt.T, \"\\n\")\n",
    "print(\"Singular values = \\n\", Y)"
   ]
  },
  {
   "cell_type": "markdown",
   "metadata": {},
   "source": [
    "The left- and right-hand side bases are spanned by the _columns_ of the matrices printed here. The ordering may seem a little off, but they are sorted according to the size of their corresponding singular values. Colloquially speaking: the higher a singular value, the more important the corresponding bases states are in the representation of the object (here: state). \n",
    "\n",
    "For this example, we can see that on both the left- and right-hand side the 'most important' bases states are $(1 0 0 0)^T$ and $(0 0 0 1)^T$. In the two-particle basis that describes both the left- and the right-hand-side these are the states $|\\downarrow\\downarrow\\rangle$ and $|\\uparrow\\uparrow\\rangle$, which makes sense.\n",
    "\n",
    "What's interesting is that only two of the four singular values are nonzero. This means that our full $2^N$-dimensional basis is too large to describe the system, and that we can get away with fewer states. We can compress everything by shaving off two of the basis vectors of `X` and `Z`, and two singular values off of `Y`."
   ]
  },
  {
   "cell_type": "code",
   "execution_count": 5,
   "metadata": {},
   "outputs": [
    {
     "data": {
      "text/plain": [
       "array([[1., 0., 0., 0.],\n",
       "       [0., 0., 0., 0.],\n",
       "       [0., 0., 0., 0.],\n",
       "       [0., 0., 0., 1.]])"
      ]
     },
     "execution_count": 5,
     "metadata": {},
     "output_type": "execute_result"
    }
   ],
   "source": [
    "np.dot( X[:, 0:2], np.dot(np.diag(Y[0:2]), Zt[0:2, :]) )"
   ]
  },
  {
   "cell_type": "markdown",
   "metadata": {},
   "source": [
    "And we get the same state! While this may not look so impressive here, this is actually the cornerstone of many modern numerical techniques such as TEBD and DMRG. It will enable us to describe some states that live in huge Hilbert spaces using a fraction of the numbers we would require otherwise, making some simulations an option."
   ]
  },
  {
   "cell_type": "code",
   "execution_count": null,
   "metadata": {},
   "outputs": [],
   "source": []
  }
 ],
 "metadata": {
  "kernelspec": {
   "display_name": "Python 3",
   "language": "python",
   "name": "python3"
  },
  "language_info": {
   "codemirror_mode": {
    "name": "ipython",
    "version": 3
   },
   "file_extension": ".py",
   "mimetype": "text/x-python",
   "name": "python",
   "nbconvert_exporter": "python",
   "pygments_lexer": "ipython3",
   "version": "3.6.6+"
  },
  "widgets": {
   "application/vnd.jupyter.widget-state+json": {
    "state": {},
    "version_major": 2,
    "version_minor": 0
   }
  }
 },
 "nbformat": 4,
 "nbformat_minor": 4
}
